{
  "nbformat": 4,
  "nbformat_minor": 0,
  "metadata": {
    "colab": {
      "provenance": []
    },
    "kernelspec": {
      "name": "python3",
      "display_name": "Python 3"
    },
    "language_info": {
      "name": "python"
    }
  },
  "cells": [
    {
      "cell_type": "code",
      "execution_count": null,
      "metadata": {
        "colab": {
          "base_uri": "https://localhost:8080/"
        },
        "id": "3IUOAG5cHqCu",
        "outputId": "8c9471b5-32af-442c-c9bd-047e0499968d"
      },
      "outputs": [
        {
          "output_type": "stream",
          "name": "stdout",
          "text": [
            "Mounted at /content/drive\n"
          ]
        }
      ],
      "source": [
        "from google.colab import drive\n",
        "drive.mount('/content/drive')"
      ]
    },
    {
      "cell_type": "code",
      "source": [
        "from google.colab import drive\n",
        "drive.mount('/content/drive')"
      ],
      "metadata": {
        "id": "TdMsfrWsIwJx",
        "colab": {
          "base_uri": "https://localhost:8080/"
        },
        "outputId": "c71b66f1-345b-477b-b2f2-56523ebc69fa"
      },
      "execution_count": 3,
      "outputs": [
        {
          "output_type": "stream",
          "name": "stdout",
          "text": [
            "Drive already mounted at /content/drive; to attempt to forcibly remount, call drive.mount(\"/content/drive\", force_remount=True).\n"
          ]
        }
      ]
    },
    {
      "cell_type": "code",
      "source": [
        "import json\n",
        "from PIL import Image\n",
        "import cv2\n",
        "import numpy as np"
      ],
      "metadata": {
        "id": "YGJSGTE1KNxz"
      },
      "execution_count": 43,
      "outputs": []
    },
    {
      "cell_type": "code",
      "source": [
        "f=open(\"/content/drive/MyDrive/Level_1_Input_Data.zip (Unzipped Files)/input.json\")\n",
        "data=json.load(f)\n",
        "data"
      ],
      "metadata": {
        "colab": {
          "base_uri": "https://localhost:8080/"
        },
        "id": "jEP1G-9aKPQw",
        "outputId": "6f69cbb8-71b7-4911-d93e-6daf328de224"
      },
      "execution_count": 6,
      "outputs": [
        {
          "output_type": "execute_result",
          "data": {
            "text/plain": [
              "{'die': {'width': 800, 'height': 600, 'rows': 1, 'columns': 5},\n",
              " 'street_width': 0,\n",
              " 'care_areas': [{'top_left': {'x': 0, 'y': 600},\n",
              "   'bottom_right': {'x': 800, 'y': 0}}],\n",
              " 'exclusion_zones': []}"
            ]
          },
          "metadata": {},
          "execution_count": 6
        }
      ]
    },
    {
      "cell_type": "code",
      "source": [
        "image1=cv2.imread('/content/drive/MyDrive/Level_1_Input_Data.zip (Unzipped Files)/wafer_image_1.png')\n",
        "image1=cv2.cvtColor(image1, cv2.COLOR_BGR2GRAY)\n",
        "image2=cv2.imread('/content/drive/MyDrive/Level_1_Input_Data.zip (Unzipped Files)/wafer_image_2.png')\n",
        "image1=cv2.cvtColor(image1, cv2.COLOR_BGR2GRAY)\n",
        "image3=cv2.imread('/content/drive/MyDrive/Level_1_Input_Data.zip (Unzipped Files)/wafer_image_3.png')\n",
        "image1=cv2.cvtColor(image1, cv2.COLOR_BGR2GRAY)\n",
        "image4=cv2.imread('/content/drive/MyDrive/Level_1_Input_Data.zip (Unzipped Files)/wafer_image_4.png')\n",
        "image1=cv2.cvtColor(image1, cv2.COLOR_BGR2GRAY)\n",
        "image5=cv2.imread('/content/drive/MyDrive/Level_1_Input_Data.zip (Unzipped Files)/wafer_image_5.png')\n",
        "image1=cv2.cvtColor(image1, cv2.COLOR_BGR2GRAY)\n",
        "wafer=[image1,image2,image3,image4,image5]"
      ],
      "metadata": {
        "id": "pztaWbfdKhA_"
      },
      "execution_count": 14,
      "outputs": []
    },
    {
      "cell_type": "code",
      "source": [
        "for i in range(0,60,30):\n",
        "  for j in range(800):\n",
        "    #print(str(image1[i][j]))\n",
        "    if image1[i][j]==[128,128:\n",
        "      print(i,j)"
      ],
      "metadata": {
        "colab": {
          "base_uri": "https://localhost:8080/",
          "height": 217
        },
        "id": "L0wfvq20LqpF",
        "outputId": "9afccd44-4b56-410f-e599-1344a5298380"
      },
      "execution_count": 47,
      "outputs": [
        {
          "output_type": "error",
          "ename": "ValueError",
          "evalue": "ignored",
          "traceback": [
            "\u001b[0;31m---------------------------------------------------------------------------\u001b[0m",
            "\u001b[0;31mValueError\u001b[0m                                Traceback (most recent call last)",
            "\u001b[0;32m<ipython-input-47-6f10d4dd0277>\u001b[0m in \u001b[0;36m<cell line: 1>\u001b[0;34m()\u001b[0m\n\u001b[1;32m      2\u001b[0m   \u001b[0;32mfor\u001b[0m \u001b[0mj\u001b[0m \u001b[0;32min\u001b[0m \u001b[0mrange\u001b[0m\u001b[0;34m(\u001b[0m\u001b[0;36m800\u001b[0m\u001b[0;34m)\u001b[0m\u001b[0;34m:\u001b[0m\u001b[0;34m\u001b[0m\u001b[0;34m\u001b[0m\u001b[0m\n\u001b[1;32m      3\u001b[0m     \u001b[0;31m#print(str(image1[i][j]))\u001b[0m\u001b[0;34m\u001b[0m\u001b[0;34m\u001b[0m\u001b[0m\n\u001b[0;32m----> 4\u001b[0;31m     \u001b[0;32mif\u001b[0m \u001b[0mimage1\u001b[0m\u001b[0;34m[\u001b[0m\u001b[0mi\u001b[0m\u001b[0;34m]\u001b[0m\u001b[0;34m[\u001b[0m\u001b[0mj\u001b[0m\u001b[0;34m]\u001b[0m\u001b[0;34m==\u001b[0m\u001b[0;34m[\u001b[0m\u001b[0;36m128\u001b[0m\u001b[0;34m,\u001b[0m\u001b[0;36m128\u001b[0m\u001b[0;34m,\u001b[0m\u001b[0;36m128\u001b[0m\u001b[0;34m]\u001b[0m\u001b[0;34m:\u001b[0m\u001b[0;34m\u001b[0m\u001b[0;34m\u001b[0m\u001b[0m\n\u001b[0m\u001b[1;32m      5\u001b[0m       \u001b[0mprint\u001b[0m\u001b[0;34m(\u001b[0m\u001b[0mi\u001b[0m\u001b[0;34m,\u001b[0m\u001b[0mj\u001b[0m\u001b[0;34m)\u001b[0m\u001b[0;34m\u001b[0m\u001b[0;34m\u001b[0m\u001b[0m\n",
            "\u001b[0;31mValueError\u001b[0m: The truth value of an array with more than one element is ambiguous. Use a.any() or a.all()"
          ]
        }
      ]
    }
  ]
}